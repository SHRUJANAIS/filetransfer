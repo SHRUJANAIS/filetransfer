{
 "cells": [
  {
   "cell_type": "code",
   "execution_count": 1,
   "id": "37b699b1",
   "metadata": {},
   "outputs": [
    {
     "name": "stdout",
     "output_type": "stream",
     "text": [
      "Overwriting Client19.py\n"
     ]
    }
   ],
   "source": [
    "%%writefile Client19.py\n",
    "import socket\n",
    "import ssl\n",
    "import tkinter as tk\n",
    "from tkinter import messagebox\n",
    "import os\n",
    "\n",
    "SERVER_CERT = 'server.crt'  # Server's certificate file\n",
    "\n",
    "def download_file():\n",
    "    filename = entry_filename.get()\n",
    "    username = entry_username.get()\n",
    "    password = entry_password.get()\n",
    "\n",
    "    if not filename or not username or not password:\n",
    "        messagebox.showerror(\"Error\", \"Please enter filename, username, and password.\")\n",
    "        return\n",
    "\n",
    "    context = ssl.create_default_context(ssl.Purpose.SERVER_AUTH)\n",
    "    context.load_verify_locations(SERVER_CERT)\n",
    "\n",
    "    with socket.create_connection(('localhost', 61259)) as client_socket:\n",
    "        with context.wrap_socket(client_socket, server_hostname='localhost') as ssl_socket:\n",
    "            command = f\"GET {filename} {username}:{password}\"\n",
    "            ssl_socket.sendall(command.encode())\n",
    "\n",
    "            data = b''\n",
    "            while True:\n",
    "                chunk = ssl_socket.recv(1024)\n",
    "                if not chunk:\n",
    "                    break\n",
    "                data += chunk\n",
    "            if data == b'File not found':\n",
    "                messagebox.showerror(\"Error\", \"File not found on server.\")\n",
    "            elif data == b'Authentication failed':\n",
    "                messagebox.showerror(\"Error\", \"Authentication failed.\")\n",
    "            elif data == b'Missing username/password':\n",
    "                messagebox.showerror(\"Error\", \"Username or password missing.\")\n",
    "            elif data == b'Invalid command':\n",
    "                messagebox.showerror(\"Error\", \"Invalid command.\")\n",
    "            else:\n",
    "                save_path = \"C:\\\\Users\\\\shruj\\\\OneDrive\\\\Desktop\"\n",
    "                with open(os.path.join(save_path, filename), 'wb') as file:\n",
    "                    file.write(data)\n",
    "\n",
    "                messagebox.showinfo(\"Success\", f\"File '{filename}' downloaded successfully.\")\n",
    "\n",
    "# Create GUI window\n",
    "window = tk.Tk()\n",
    "window.title(\"File Sharing Client\")\n",
    "\n",
    "# Create GUI components\n",
    "label_filename = tk.Label(window, text=\"Filename:\")\n",
    "label_username = tk.Label(window, text=\"Username:\")\n",
    "label_password = tk.Label(window, text=\"Password:\")\n",
    "entry_filename = tk.Entry(window)\n",
    "entry_username = tk.Entry(window)\n",
    "entry_password = tk.Entry(window, show=\"*\")\n",
    "button_download = tk.Button(window, text=\"Download\", command=download_file)\n",
    "\n",
    "# Place GUI components on window\n",
    "label_filename.grid(row=0, column=0, padx=5, pady=5, sticky=\"e\")\n",
    "label_username.grid(row=1, column=0, padx=5, pady=5, sticky=\"e\")\n",
    "label_password.grid(row=2, column=0, padx=5, pady=5, sticky=\"e\")\n",
    "entry_filename.grid(row=0, column=1, padx=5, pady=5)\n",
    "entry_username.grid(row=1, column=1, padx=5, pady=5)\n",
    "entry_password.grid(row=2, column=1, padx=5, pady=5)\n",
    "button_download.grid(row=3, column=0, columnspan=2, pady=10)\n",
    "\n",
    "# Run GUI application\n",
    "window.mainloop()\n"
   ]
  },
  {
   "cell_type": "code",
   "execution_count": null,
   "id": "59152b8d",
   "metadata": {},
   "outputs": [],
   "source": []
  }
 ],
 "metadata": {
  "kernelspec": {
   "display_name": "Python 3 (ipykernel)",
   "language": "python",
   "name": "python3"
  },
  "language_info": {
   "codemirror_mode": {
    "name": "ipython",
    "version": 3
   },
   "file_extension": ".py",
   "mimetype": "text/x-python",
   "name": "python",
   "nbconvert_exporter": "python",
   "pygments_lexer": "ipython3",
   "version": "3.11.4"
  }
 },
 "nbformat": 4,
 "nbformat_minor": 5
}
